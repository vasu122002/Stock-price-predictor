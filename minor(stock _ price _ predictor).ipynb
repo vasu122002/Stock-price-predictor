{
 "cells": [
  {
   "cell_type": "code",
   "execution_count": 202,
   "id": "d3288773",
   "metadata": {},
   "outputs": [],
   "source": [
    "import numpy as np\n",
    "import pandas as pd \n",
    "import matplotlib.pyplot as plt\n",
    "import seaborn as sns\n",
    "import tensorflow \n",
    "import keras"
   ]
  },
  {
   "cell_type": "code",
   "execution_count": 203,
   "id": "b65e5e34",
   "metadata": {},
   "outputs": [],
   "source": [
    "data = pd.read_csv('1613615-Stock_Price_data_set.csv')"
   ]
  },
  {
   "cell_type": "code",
   "execution_count": 204,
   "id": "02b8468c",
   "metadata": {},
   "outputs": [
    {
     "data": {
      "text/plain": [
       "0     254.259995\n",
       "1     265.720001\n",
       "2     264.559998\n",
       "3     250.100006\n",
       "4     249.470001\n",
       "         ...    \n",
       "95    415.440002\n",
       "96    411.089996\n",
       "97    384.480011\n",
       "98    399.390015\n",
       "99    390.390015\n",
       "Name: Close, Length: 100, dtype: float64"
      ]
     },
     "execution_count": 204,
     "metadata": {},
     "output_type": "execute_result"
    }
   ],
   "source": [
    "data.Close[0:100]"
   ]
  },
  {
   "cell_type": "code",
   "execution_count": 205,
   "id": "d273449d",
   "metadata": {},
   "outputs": [
    {
     "data": {
      "text/plain": [
       "422771.739517"
      ]
     },
     "execution_count": 205,
     "metadata": {},
     "output_type": "execute_result"
    }
   ],
   "source": [
    "data['Adj Close'].sum()"
   ]
  },
  {
   "cell_type": "code",
   "execution_count": 206,
   "id": "84fbc029",
   "metadata": {},
   "outputs": [
    {
     "data": {
      "text/plain": [
       "422771.739517"
      ]
     },
     "execution_count": 206,
     "metadata": {},
     "output_type": "execute_result"
    }
   ],
   "source": [
    "data['Close'].sum()"
   ]
  },
  {
   "cell_type": "code",
   "execution_count": 207,
   "id": "f714d4c8",
   "metadata": {},
   "outputs": [],
   "source": [
    "data.drop( columns = 'Adj Close' , inplace = True )"
   ]
  },
  {
   "cell_type": "code",
   "execution_count": 208,
   "id": "144329fa",
   "metadata": {},
   "outputs": [
    {
     "data": {
      "text/html": [
       "<div>\n",
       "<style scoped>\n",
       "    .dataframe tbody tr th:only-of-type {\n",
       "        vertical-align: middle;\n",
       "    }\n",
       "\n",
       "    .dataframe tbody tr th {\n",
       "        vertical-align: top;\n",
       "    }\n",
       "\n",
       "    .dataframe thead th {\n",
       "        text-align: right;\n",
       "    }\n",
       "</style>\n",
       "<table border=\"1\" class=\"dataframe\">\n",
       "  <thead>\n",
       "    <tr style=\"text-align: right;\">\n",
       "      <th></th>\n",
       "      <th>Date</th>\n",
       "      <th>Open</th>\n",
       "      <th>High</th>\n",
       "      <th>Low</th>\n",
       "      <th>Close</th>\n",
       "      <th>Volume</th>\n",
       "    </tr>\n",
       "  </thead>\n",
       "  <tbody>\n",
       "    <tr>\n",
       "      <th>1004</th>\n",
       "      <td>2022-01-31</td>\n",
       "      <td>401.970001</td>\n",
       "      <td>427.700012</td>\n",
       "      <td>398.200012</td>\n",
       "      <td>427.140015</td>\n",
       "      <td>20047500</td>\n",
       "    </tr>\n",
       "    <tr>\n",
       "      <th>1005</th>\n",
       "      <td>2022-02-01</td>\n",
       "      <td>432.959991</td>\n",
       "      <td>458.480011</td>\n",
       "      <td>425.540009</td>\n",
       "      <td>457.130005</td>\n",
       "      <td>22542300</td>\n",
       "    </tr>\n",
       "    <tr>\n",
       "      <th>1006</th>\n",
       "      <td>2022-02-02</td>\n",
       "      <td>448.250000</td>\n",
       "      <td>451.980011</td>\n",
       "      <td>426.480011</td>\n",
       "      <td>429.480011</td>\n",
       "      <td>14346000</td>\n",
       "    </tr>\n",
       "    <tr>\n",
       "      <th>1007</th>\n",
       "      <td>2022-02-03</td>\n",
       "      <td>421.440002</td>\n",
       "      <td>429.260010</td>\n",
       "      <td>404.279999</td>\n",
       "      <td>405.600006</td>\n",
       "      <td>9905200</td>\n",
       "    </tr>\n",
       "    <tr>\n",
       "      <th>1008</th>\n",
       "      <td>2022-02-04</td>\n",
       "      <td>407.309998</td>\n",
       "      <td>412.769989</td>\n",
       "      <td>396.640015</td>\n",
       "      <td>410.170013</td>\n",
       "      <td>7782400</td>\n",
       "    </tr>\n",
       "  </tbody>\n",
       "</table>\n",
       "</div>"
      ],
      "text/plain": [
       "            Date        Open        High         Low       Close    Volume\n",
       "1004  2022-01-31  401.970001  427.700012  398.200012  427.140015  20047500\n",
       "1005  2022-02-01  432.959991  458.480011  425.540009  457.130005  22542300\n",
       "1006  2022-02-02  448.250000  451.980011  426.480011  429.480011  14346000\n",
       "1007  2022-02-03  421.440002  429.260010  404.279999  405.600006   9905200\n",
       "1008  2022-02-04  407.309998  412.769989  396.640015  410.170013   7782400"
      ]
     },
     "execution_count": 208,
     "metadata": {},
     "output_type": "execute_result"
    }
   ],
   "source": [
    "data.tail()"
   ]
  },
  {
   "cell_type": "code",
   "execution_count": 209,
   "id": "689124dd",
   "metadata": {},
   "outputs": [
    {
     "name": "stdout",
     "output_type": "stream",
     "text": [
      "<class 'pandas.core.frame.DataFrame'>\n",
      "RangeIndex: 1009 entries, 0 to 1008\n",
      "Data columns (total 6 columns):\n",
      " #   Column  Non-Null Count  Dtype  \n",
      "---  ------  --------------  -----  \n",
      " 0   Date    1009 non-null   object \n",
      " 1   Open    1009 non-null   float64\n",
      " 2   High    1009 non-null   float64\n",
      " 3   Low     1009 non-null   float64\n",
      " 4   Close   1009 non-null   float64\n",
      " 5   Volume  1009 non-null   int64  \n",
      "dtypes: float64(4), int64(1), object(1)\n",
      "memory usage: 47.4+ KB\n"
     ]
    }
   ],
   "source": [
    "data.info()"
   ]
  },
  {
   "cell_type": "code",
   "execution_count": 210,
   "id": "a5e44f42",
   "metadata": {},
   "outputs": [
    {
     "name": "stderr",
     "output_type": "stream",
     "text": [
      "C:\\anaconda\\lib\\site-packages\\seaborn\\_decorators.py:36: FutureWarning: Pass the following variable as a keyword arg: x. From version 0.12, the only valid positional argument will be `data`, and passing other arguments without an explicit keyword will result in an error or misinterpretation.\n",
      "  warnings.warn(\n"
     ]
    },
    {
     "data": {
      "text/plain": [
       "<AxesSubplot:xlabel='Close'>"
      ]
     },
     "execution_count": 210,
     "metadata": {},
     "output_type": "execute_result"
    },
    {
     "data": {
      "image/png": "[encoded data removed]",
      "text/plain": [
       "<Figure size 432x288 with 1 Axes>"
      ]
     },
     "metadata": {
      "needs_background": "light"
     },
     "output_type": "display_data"
    }
   ],
   "source": [
    "sns.boxplot(data['Close'])\n"
   ]
  },
  {
   "cell_type": "code",
   "execution_count": 211,
   "id": "0bb15cfc",
   "metadata": {},
   "outputs": [
    {
     "data": {
      "text/html": [
       "<div>\n",
       "<style scoped>\n",
       "    .dataframe tbody tr th:only-of-type {\n",
       "        vertical-align: middle;\n",
       "    }\n",
       "\n",
       "    .dataframe tbody tr th {\n",
       "        vertical-align: top;\n",
       "    }\n",
       "\n",
       "    .dataframe thead th {\n",
       "        text-align: right;\n",
       "    }\n",
       "</style>\n",
       "<table border=\"1\" class=\"dataframe\">\n",
       "  <thead>\n",
       "    <tr style=\"text-align: right;\">\n",
       "      <th></th>\n",
       "      <th>Open</th>\n",
       "      <th>High</th>\n",
       "      <th>Low</th>\n",
       "      <th>Close</th>\n",
       "      <th>Volume</th>\n",
       "    </tr>\n",
       "  </thead>\n",
       "  <tbody>\n",
       "    <tr>\n",
       "      <th>Open</th>\n",
       "      <td>1.000000</td>\n",
       "      <td>0.998605</td>\n",
       "      <td>0.998508</td>\n",
       "      <td>0.996812</td>\n",
       "      <td>-0.415838</td>\n",
       "    </tr>\n",
       "    <tr>\n",
       "      <th>High</th>\n",
       "      <td>0.998605</td>\n",
       "      <td>1.000000</td>\n",
       "      <td>0.998203</td>\n",
       "      <td>0.998551</td>\n",
       "      <td>-0.400699</td>\n",
       "    </tr>\n",
       "    <tr>\n",
       "      <th>Low</th>\n",
       "      <td>0.998508</td>\n",
       "      <td>0.998203</td>\n",
       "      <td>1.000000</td>\n",
       "      <td>0.998544</td>\n",
       "      <td>-0.432116</td>\n",
       "    </tr>\n",
       "    <tr>\n",
       "      <th>Close</th>\n",
       "      <td>0.996812</td>\n",
       "      <td>0.998551</td>\n",
       "      <td>0.998544</td>\n",
       "      <td>1.000000</td>\n",
       "      <td>-0.413362</td>\n",
       "    </tr>\n",
       "    <tr>\n",
       "      <th>Volume</th>\n",
       "      <td>-0.415838</td>\n",
       "      <td>-0.400699</td>\n",
       "      <td>-0.432116</td>\n",
       "      <td>-0.413362</td>\n",
       "      <td>1.000000</td>\n",
       "    </tr>\n",
       "  </tbody>\n",
       "</table>\n",
       "</div>"
      ],
      "text/plain": [
       "            Open      High       Low     Close    Volume\n",
       "Open    1.000000  0.998605  0.998508  0.996812 -0.415838\n",
       "High    0.998605  1.000000  0.998203  0.998551 -0.400699\n",
       "Low     0.998508  0.998203  1.000000  0.998544 -0.432116\n",
       "Close   0.996812  0.998551  0.998544  1.000000 -0.413362\n",
       "Volume -0.415838 -0.400699 -0.432116 -0.413362  1.000000"
      ]
     },
     "execution_count": 211,
     "metadata": {},
     "output_type": "execute_result"
    }
   ],
   "source": [
    "data.corr()"
   ]
  },
  {
   "cell_type": "code",
   "execution_count": 212,
   "id": "b1f92691",
   "metadata": {},
   "outputs": [
    {
     "data": {
      "text/plain": [
       "<AxesSubplot:>"
      ]
     },
     "execution_count": 212,
     "metadata": {},
     "output_type": "execute_result"
    },
    {
     "data": {
      "image/png": "[encoded data removed]",
      "text/plain": [
       "<Figure size 432x288 with 2 Axes>"
      ]
     },
     "metadata": {
      "needs_background": "light"
     },
     "output_type": "display_data"
    }
   ],
   "source": [
    "sns.heatmap(data.corr(), annot = True)"
   ]
  },
  {
   "cell_type": "code",
   "execution_count": 213,
   "id": "cf61ee09",
   "metadata": {},
   "outputs": [
    {
     "data": {
      "text/plain": [
       "[<matplotlib.lines.Line2D at 0x1447fd61df0>]"
      ]
     },
     "execution_count": 213,
     "metadata": {},
     "output_type": "execute_result"
    },
    {
     "data": {
      "image/png": "[encoded data removed]",
      "text/plain": [
       "<Figure size 432x288 with 1 Axes>"
      ]
     },
     "metadata": {
      "needs_background": "light"
     },
     "output_type": "display_data"
    }
   ],
   "source": [
    "plt.plot(data['Close'])"
   ]
  },
  {
   "cell_type": "code",
   "execution_count": 214,
   "id": "2b7e790c",
   "metadata": {},
   "outputs": [],
   "source": [
    "df = data['Close']"
   ]
  },
  {
   "cell_type": "code",
   "execution_count": 215,
   "id": "829750b8",
   "metadata": {},
   "outputs": [
    {
     "data": {
      "text/plain": [
       "357.320007    3\n",
       "311.690002    2\n",
       "488.239990    2\n",
       "358.820007    2\n",
       "325.220001    2\n",
       "             ..\n",
       "497.980011    1\n",
       "350.920013    1\n",
       "290.059998    1\n",
       "343.089996    1\n",
       "475.739990    1\n",
       "Name: Close, Length: 988, dtype: int64"
      ]
     },
     "execution_count": 215,
     "metadata": {},
     "output_type": "execute_result"
    }
   ],
   "source": [
    "df.value_counts()"
   ]
  },
  {
   "cell_type": "code",
   "execution_count": 216,
   "id": "1d4dcd21",
   "metadata": {},
   "outputs": [],
   "source": [
    "from sklearn.preprocessing import MinMaxScaler"
   ]
  },
  {
   "cell_type": "code",
   "execution_count": 217,
   "id": "5e6ff7a3",
   "metadata": {},
   "outputs": [],
   "source": [
    "scaler = MinMaxScaler(feature_range = (0,1))\n",
    "df1 = scaler.fit_transform(np.array(df).reshape(-1,1))"
   ]
  },
  {
   "cell_type": "code",
   "execution_count": 218,
   "id": "565dcc13",
   "metadata": {},
   "outputs": [],
   "source": [
    "training_size = int(len(df1)*0.65)\n",
    "test_size =len(df1) - training_size"
   ]
  },
  {
   "cell_type": "code",
   "execution_count": 219,
   "id": "d753058a",
   "metadata": {},
   "outputs": [],
   "source": [
    "train_data , test_data = df1[0:training_size:],df1[training_size:len(df1), :1]"
   ]
  },
  {
   "cell_type": "code",
   "execution_count": 220,
   "id": "36a17fa5",
   "metadata": {},
   "outputs": [
    {
     "data": {
      "text/plain": [
       "354"
      ]
     },
     "execution_count": 220,
     "metadata": {},
     "output_type": "execute_result"
    }
   ],
   "source": [
    "len(test_data)"
   ]
  },
  {
   "cell_type": "code",
   "execution_count": 221,
   "id": "3c1c64cf",
   "metadata": {},
   "outputs": [],
   "source": [
    "def create_dataset(dataset , step_size = 1):\n",
    "    datax , datay = [] , []\n",
    "    for i in range(len(dataset) - step_size - 1 ):\n",
    "        a = dataset[i:(i+step_size),0]\n",
    "        datax.append(a)\n",
    "        datay.append(dataset[i+step_size,0])\n",
    "    return np.array(datax),np.array(datay)\n",
    "        \n",
    "    "
   ]
  },
  {
   "cell_type": "code",
   "execution_count": 222,
   "id": "1b0e13d9",
   "metadata": {},
   "outputs": [],
   "source": [
    "time_step = 100\n",
    "x_train, y_train = create_dataset(train_data , time_step)\n",
    "x_test, y_test = create_dataset(test_data , time_step)"
   ]
  },
  {
   "cell_type": "code",
   "execution_count": 223,
   "id": "6f606280",
   "metadata": {},
   "outputs": [
    {
     "data": {
      "text/plain": [
       "array([[0.54203708, 0.52943362, 0.57253006, ..., 0.66656468, 0.68648559,\n",
       "        0.66746032],\n",
       "       [0.52943362, 0.57253006, 0.54603434, ..., 0.68648559, 0.66746032,\n",
       "        0.69522284],\n",
       "       [0.57253006, 0.54603434, 0.51619669, ..., 0.66746032, 0.69522284,\n",
       "        0.69223035],\n",
       "       ...,\n",
       "       [0.79434695, 0.79692442, 0.77632637, ..., 0.33380662, 0.32869527,\n",
       "        0.42214021],\n",
       "       [0.79692442, 0.77632637, 0.75114132, ..., 0.32869527, 0.42214021,\n",
       "        0.48764772],\n",
       "       [0.77632637, 0.75114132, 0.76230312, ..., 0.42214021, 0.48764772,\n",
       "        0.4272515 ]])"
      ]
     },
     "execution_count": 223,
     "metadata": {},
     "output_type": "execute_result"
    }
   ],
   "source": [
    "x_test"
   ]
  },
  {
   "cell_type": "code",
   "execution_count": 224,
   "id": "7882e2f8",
   "metadata": {},
   "outputs": [
    {
     "data": {
      "text/plain": [
       "(253, 100)"
      ]
     },
     "execution_count": 224,
     "metadata": {},
     "output_type": "execute_result"
    }
   ],
   "source": [
    "x_test.shape"
   ]
  },
  {
   "cell_type": "code",
   "execution_count": 225,
   "id": "fa365cb1",
   "metadata": {},
   "outputs": [],
   "source": [
    "x_train = x_train.reshape(x_train.shape[0] , x_train.shape[1] , 1)\n",
    "x_test = x_test.reshape(x_test.shape[0] , x_test.shape[1] , 1)"
   ]
  },
  {
   "cell_type": "code",
   "execution_count": 226,
   "id": "9a52b528",
   "metadata": {},
   "outputs": [],
   "source": [
    "from tensorflow.keras.models import Sequential\n",
    "from tensorflow.keras.layers import Dense\n",
    "from tensorflow.keras.layers import LSTM"
   ]
  },
  {
   "cell_type": "code",
   "execution_count": 227,
   "id": "943f0947",
   "metadata": {},
   "outputs": [],
   "source": [
    "model = Sequential()\n",
    "model.add(LSTM(50,return_sequences = True , input_shape = (100,1)))\n",
    "model.add(LSTM(50,return_sequences = True ))\n",
    "model.add(LSTM(50))\n",
    "model.add(Dense(1))\n",
    "model.compile(loss = 'mean_squared_error' , optimizer = 'adam')"
   ]
  },
  {
   "cell_type": "code",
   "execution_count": 228,
   "id": "66e6e4d9",
   "metadata": {},
   "outputs": [
    {
     "name": "stdout",
     "output_type": "stream",
     "text": [
      "Model: \"sequential_1\"\n",
      "_________________________________________________________________\n",
      " Layer (type)                Output Shape              Param #   \n",
      "=================================================================\n",
      " lstm_3 (LSTM)               (None, 100, 50)           10400     \n",
      "                                                                 \n",
      " lstm_4 (LSTM)               (None, 100, 50)           20200     \n",
      "                                                                 \n",
      " lstm_5 (LSTM)               (None, 50)                20200     \n",
      "                                                                 \n",
      " dense_1 (Dense)             (None, 1)                 51        \n",
      "                                                                 \n",
      "=================================================================\n",
      "Total params: 50,851\n",
      "Trainable params: 50,851\n",
      "Non-trainable params: 0\n",
      "_________________________________________________________________\n"
     ]
    }
   ],
   "source": [
    "model.summary()"
   ]
  },
  {
   "cell_type": "code",
   "execution_count": 229,
   "id": "e3d582e2",
   "metadata": {},
   "outputs": [
    {
     "name": "stdout",
     "output_type": "stream",
     "text": [
      "Epoch 1/100\n",
      "9/9 [==============================] - 29s 851ms/step - loss: 0.0351 - val_loss: 0.0211\n",
      "Epoch 2/100\n",
      "9/9 [==============================] - 3s 348ms/step - loss: 0.0087 - val_loss: 0.0345\n",
      "Epoch 3/100\n",
      "9/9 [==============================] - 3s 306ms/step - loss: 0.0058 - val_loss: 0.0116\n",
      "Epoch 4/100\n",
      "9/9 [==============================] - 3s 340ms/step - loss: 0.0044 - val_loss: 0.0083\n",
      "Epoch 5/100\n",
      "9/9 [==============================] - 5s 523ms/step - loss: 0.0034 - val_loss: 0.0074\n",
      "Epoch 6/100\n",
      "9/9 [==============================] - 4s 415ms/step - loss: 0.0030 - val_loss: 0.0153\n",
      "Epoch 7/100\n",
      "9/9 [==============================] - 4s 402ms/step - loss: 0.0028 - val_loss: 0.0094\n",
      "Epoch 8/100\n",
      "9/9 [==============================] - 3s 356ms/step - loss: 0.0027 - val_loss: 0.0082\n",
      "Epoch 9/100\n",
      "9/9 [==============================] - 3s 357ms/step - loss: 0.0027 - val_loss: 0.0110\n",
      "Epoch 10/100\n",
      "9/9 [==============================] - 3s 340ms/step - loss: 0.0027 - val_loss: 0.0086\n",
      "Epoch 11/100\n",
      "9/9 [==============================] - 4s 443ms/step - loss: 0.0025 - val_loss: 0.0074\n",
      "Epoch 12/100\n",
      "9/9 [==============================] - 3s 390ms/step - loss: 0.0024 - val_loss: 0.0063\n",
      "Epoch 13/100\n",
      "9/9 [==============================] - 3s 338ms/step - loss: 0.0025 - val_loss: 0.0108\n",
      "Epoch 14/100\n",
      "9/9 [==============================] - 3s 297ms/step - loss: 0.0023 - val_loss: 0.0096\n",
      "Epoch 15/100\n",
      "9/9 [==============================] - 4s 431ms/step - loss: 0.0023 - val_loss: 0.0057\n",
      "Epoch 16/100\n",
      "9/9 [==============================] - 4s 427ms/step - loss: 0.0022 - val_loss: 0.0057\n",
      "Epoch 17/100\n",
      "9/9 [==============================] - 3s 327ms/step - loss: 0.0022 - val_loss: 0.0061\n",
      "Epoch 18/100\n",
      "9/9 [==============================] - 3s 348ms/step - loss: 0.0021 - val_loss: 0.0056\n",
      "Epoch 19/100\n",
      "9/9 [==============================] - 3s 355ms/step - loss: 0.0021 - val_loss: 0.0046\n",
      "Epoch 20/100\n",
      "9/9 [==============================] - 4s 437ms/step - loss: 0.0021 - val_loss: 0.0053\n",
      "Epoch 21/100\n",
      "9/9 [==============================] - 3s 374ms/step - loss: 0.0020 - val_loss: 0.0068\n",
      "Epoch 22/100\n",
      "9/9 [==============================] - 3s 343ms/step - loss: 0.0020 - val_loss: 0.0051\n",
      "Epoch 23/100\n",
      "9/9 [==============================] - 3s 354ms/step - loss: 0.0019 - val_loss: 0.0049\n",
      "Epoch 24/100\n",
      "9/9 [==============================] - 3s 353ms/step - loss: 0.0019 - val_loss: 0.0079\n",
      "Epoch 25/100\n",
      "9/9 [==============================] - 3s 378ms/step - loss: 0.0020 - val_loss: 0.0046\n",
      "Epoch 26/100\n",
      "9/9 [==============================] - 4s 416ms/step - loss: 0.0018 - val_loss: 0.0059\n",
      "Epoch 27/100\n",
      "9/9 [==============================] - 3s 348ms/step - loss: 0.0019 - val_loss: 0.0065\n",
      "Epoch 28/100\n",
      "9/9 [==============================] - 3s 333ms/step - loss: 0.0018 - val_loss: 0.0053\n",
      "Epoch 29/100\n",
      "9/9 [==============================] - 3s 304ms/step - loss: 0.0019 - val_loss: 0.0105\n",
      "Epoch 30/100\n",
      "9/9 [==============================] - 4s 442ms/step - loss: 0.0019 - val_loss: 0.0058\n",
      "Epoch 31/100\n",
      "9/9 [==============================] - 4s 401ms/step - loss: 0.0017 - val_loss: 0.0064\n",
      "Epoch 32/100\n",
      "9/9 [==============================] - 3s 316ms/step - loss: 0.0018 - val_loss: 0.0035\n",
      "Epoch 33/100\n",
      "9/9 [==============================] - 3s 320ms/step - loss: 0.0019 - val_loss: 0.0041\n",
      "Epoch 34/100\n",
      "9/9 [==============================] - 3s 368ms/step - loss: 0.0017 - val_loss: 0.0049\n",
      "Epoch 35/100\n",
      "9/9 [==============================] - 4s 445ms/step - loss: 0.0017 - val_loss: 0.0053\n",
      "Epoch 36/100\n",
      "9/9 [==============================] - 3s 366ms/step - loss: 0.0017 - val_loss: 0.0060\n",
      "Epoch 37/100\n",
      "9/9 [==============================] - 3s 361ms/step - loss: 0.0016 - val_loss: 0.0070\n",
      "Epoch 38/100\n",
      "9/9 [==============================] - 3s 344ms/step - loss: 0.0017 - val_loss: 0.0049\n",
      "Epoch 39/100\n",
      "9/9 [==============================] - 3s 388ms/step - loss: 0.0016 - val_loss: 0.0071\n",
      "Epoch 40/100\n",
      "9/9 [==============================] - 4s 412ms/step - loss: 0.0016 - val_loss: 0.0060\n",
      "Epoch 41/100\n",
      "9/9 [==============================] - 4s 390ms/step - loss: 0.0016 - val_loss: 0.0038\n",
      "Epoch 42/100\n",
      "9/9 [==============================] - 3s 333ms/step - loss: 0.0016 - val_loss: 0.0050\n",
      "Epoch 43/100\n",
      "9/9 [==============================] - 3s 309ms/step - loss: 0.0016 - val_loss: 0.0035\n",
      "Epoch 44/100\n",
      "9/9 [==============================] - 4s 417ms/step - loss: 0.0015 - val_loss: 0.0096\n",
      "Epoch 45/100\n",
      "9/9 [==============================] - 4s 440ms/step - loss: 0.0016 - val_loss: 0.0074\n",
      "Epoch 46/100\n",
      "9/9 [==============================] - 3s 340ms/step - loss: 0.0017 - val_loss: 0.0059\n",
      "Epoch 47/100\n",
      "9/9 [==============================] - 3s 350ms/step - loss: 0.0016 - val_loss: 0.0037\n",
      "Epoch 48/100\n",
      "9/9 [==============================] - 3s 355ms/step - loss: 0.0016 - val_loss: 0.0035\n",
      "Epoch 49/100\n",
      "9/9 [==============================] - 4s 441ms/step - loss: 0.0015 - val_loss: 0.0033\n",
      "Epoch 50/100\n",
      "9/9 [==============================] - 3s 356ms/step - loss: 0.0015 - val_loss: 0.0041\n",
      "Epoch 51/100\n",
      "9/9 [==============================] - 3s 357ms/step - loss: 0.0016 - val_loss: 0.0028\n",
      "Epoch 52/100\n",
      "9/9 [==============================] - 3s 346ms/step - loss: 0.0015 - val_loss: 0.0031\n",
      "Epoch 53/100\n",
      "9/9 [==============================] - 3s 339ms/step - loss: 0.0014 - val_loss: 0.0038\n",
      "Epoch 54/100\n",
      "9/9 [==============================] - 4s 406ms/step - loss: 0.0013 - val_loss: 0.0030\n",
      "Epoch 55/100\n",
      "9/9 [==============================] - 4s 432ms/step - loss: 0.0013 - val_loss: 0.0027\n",
      "Epoch 56/100\n",
      "9/9 [==============================] - 3s 346ms/step - loss: 0.0014 - val_loss: 0.0026\n",
      "Epoch 57/100\n",
      "9/9 [==============================] - 3s 315ms/step - loss: 0.0013 - val_loss: 0.0027\n",
      "Epoch 58/100\n",
      "9/9 [==============================] - 3s 330ms/step - loss: 0.0013 - val_loss: 0.0025\n",
      "Epoch 59/100\n",
      "9/9 [==============================] - 4s 433ms/step - loss: 0.0013 - val_loss: 0.0025\n",
      "Epoch 60/100\n",
      "9/9 [==============================] - 4s 418ms/step - loss: 0.0013 - val_loss: 0.0031\n",
      "Epoch 61/100\n",
      "9/9 [==============================] - 3s 311ms/step - loss: 0.0013 - val_loss: 0.0028\n",
      "Epoch 62/100\n",
      "9/9 [==============================] - 3s 325ms/step - loss: 0.0013 - val_loss: 0.0024\n",
      "Epoch 63/100\n",
      "9/9 [==============================] - 3s 358ms/step - loss: 0.0012 - val_loss: 0.0025\n",
      "Epoch 64/100\n",
      "9/9 [==============================] - 4s 427ms/step - loss: 0.0012 - val_loss: 0.0038\n",
      "Epoch 65/100\n",
      "9/9 [==============================] - 3s 376ms/step - loss: 0.0012 - val_loss: 0.0036\n",
      "Epoch 66/100\n",
      "9/9 [==============================] - 3s 353ms/step - loss: 0.0012 - val_loss: 0.0056\n",
      "Epoch 67/100\n",
      "9/9 [==============================] - 3s 345ms/step - loss: 0.0011 - val_loss: 0.0042\n",
      "Epoch 68/100\n",
      "9/9 [==============================] - 3s 361ms/step - loss: 0.0011 - val_loss: 0.0034\n",
      "Epoch 69/100\n",
      "9/9 [==============================] - 4s 396ms/step - loss: 0.0010 - val_loss: 0.0027\n",
      "Epoch 70/100\n",
      "9/9 [==============================] - 3s 388ms/step - loss: 9.6661e-04 - val_loss: 0.0028\n",
      "Epoch 71/100\n",
      "9/9 [==============================] - 3s 352ms/step - loss: 9.5496e-04 - val_loss: 0.0032\n",
      "Epoch 72/100\n",
      "9/9 [==============================] - 3s 343ms/step - loss: 9.4264e-04 - val_loss: 0.0026\n",
      "Epoch 73/100\n",
      "9/9 [==============================] - 4s 412ms/step - loss: 9.0940e-04 - val_loss: 0.0018\n",
      "Epoch 74/100\n",
      "9/9 [==============================] - 4s 423ms/step - loss: 8.9358e-04 - val_loss: 0.0020\n",
      "Epoch 75/100\n",
      "9/9 [==============================] - 3s 367ms/step - loss: 9.3142e-04 - val_loss: 0.0019\n",
      "Epoch 76/100\n",
      "9/9 [==============================] - 4s 482ms/step - loss: 9.1190e-04 - val_loss: 0.0021\n",
      "Epoch 77/100\n",
      "9/9 [==============================] - 4s 438ms/step - loss: 8.2663e-04 - val_loss: 0.0025\n",
      "Epoch 78/100\n",
      "9/9 [==============================] - 4s 419ms/step - loss: 8.0095e-04 - val_loss: 0.0016\n",
      "Epoch 79/100\n",
      "9/9 [==============================] - 4s 408ms/step - loss: 7.7453e-04 - val_loss: 0.0016\n",
      "Epoch 80/100\n",
      "9/9 [==============================] - 3s 358ms/step - loss: 7.2743e-04 - val_loss: 0.0017\n",
      "Epoch 81/100\n",
      "9/9 [==============================] - 3s 331ms/step - loss: 7.0446e-04 - val_loss: 0.0022\n",
      "Epoch 82/100\n",
      "9/9 [==============================] - 4s 412ms/step - loss: 6.8022e-04 - val_loss: 0.0017\n",
      "Epoch 83/100\n",
      "9/9 [==============================] - 4s 410ms/step - loss: 6.9369e-04 - val_loss: 0.0015\n",
      "Epoch 84/100\n",
      "9/9 [==============================] - 3s 354ms/step - loss: 6.9575e-04 - val_loss: 0.0015\n",
      "Epoch 85/100\n",
      "9/9 [==============================] - 3s 347ms/step - loss: 7.0199e-04 - val_loss: 0.0015\n",
      "Epoch 86/100\n",
      "9/9 [==============================] - 3s 334ms/step - loss: 6.5037e-04 - val_loss: 0.0014\n",
      "Epoch 87/100\n",
      "9/9 [==============================] - 3s 384ms/step - loss: 6.3788e-04 - val_loss: 0.0013\n",
      "Epoch 88/100\n",
      "9/9 [==============================] - 4s 432ms/step - loss: 6.2119e-04 - val_loss: 0.0013\n",
      "Epoch 89/100\n",
      "9/9 [==============================] - 3s 353ms/step - loss: 5.9839e-04 - val_loss: 0.0013\n",
      "Epoch 90/100\n",
      "9/9 [==============================] - 3s 352ms/step - loss: 6.0171e-04 - val_loss: 0.0013\n",
      "Epoch 91/100\n",
      "9/9 [==============================] - 3s 357ms/step - loss: 6.0959e-04 - val_loss: 0.0014\n",
      "Epoch 92/100\n",
      "9/9 [==============================] - 4s 423ms/step - loss: 7.0847e-04 - val_loss: 0.0032\n",
      "Epoch 93/100\n",
      "9/9 [==============================] - 4s 395ms/step - loss: 7.0117e-04 - val_loss: 0.0023\n",
      "Epoch 94/100\n",
      "9/9 [==============================] - 3s 349ms/step - loss: 6.4710e-04 - val_loss: 0.0018\n",
      "Epoch 95/100\n",
      "9/9 [==============================] - 3s 340ms/step - loss: 6.9406e-04 - val_loss: 0.0013\n",
      "Epoch 96/100\n",
      "9/9 [==============================] - 3s 316ms/step - loss: 6.4822e-04 - val_loss: 0.0012\n",
      "Epoch 97/100\n",
      "9/9 [==============================] - 4s 436ms/step - loss: 6.2706e-04 - val_loss: 0.0014\n",
      "Epoch 98/100\n",
      "9/9 [==============================] - 4s 409ms/step - loss: 6.0308e-04 - val_loss: 0.0013\n",
      "Epoch 99/100\n",
      "9/9 [==============================] - 3s 318ms/step - loss: 5.6598e-04 - val_loss: 0.0013\n",
      "Epoch 100/100\n",
      "9/9 [==============================] - 3s 313ms/step - loss: 6.3517e-04 - val_loss: 0.0015\n"
     ]
    },
    {
     "data": {
      "text/plain": [
       "<keras.callbacks.History at 0x1447fee43d0>"
      ]
     },
     "execution_count": 229,
     "metadata": {},
     "output_type": "execute_result"
    }
   ],
   "source": [
    "model.fit(x_train , y_train , validation_data = (x_test,y_test),epochs = 100,batch_size = 64,verbose = 1)"
   ]
  },
  {
   "cell_type": "code",
   "execution_count": 230,
   "id": "24f3783f",
   "metadata": {},
   "outputs": [
    {
     "name": "stdout",
     "output_type": "stream",
     "text": [
      "18/18 [==============================] - 5s 94ms/step\n",
      "8/8 [==============================] - 1s 86ms/step\n"
     ]
    }
   ],
   "source": [
    "train_predict  = model.predict(x_train)\n",
    "test_predict  = model.predict(x_test)"
   ]
  },
  {
   "cell_type": "code",
   "execution_count": 231,
   "id": "74b00a9a",
   "metadata": {},
   "outputs": [],
   "source": [
    "train_predict = scaler.inverse_transform(train_predict)\n",
    "test_predict = scaler.inverse_transform(test_predict)"
   ]
  },
  {
   "cell_type": "code",
   "execution_count": 232,
   "id": "58c0d158",
   "metadata": {},
   "outputs": [
    {
     "data": {
      "text/plain": [
       "array([[390.07074],\n",
       "       [394.7706 ],\n",
       "       [398.21713],\n",
       "       [402.81448],\n",
       "       [401.48788],\n",
       "       [401.73795],\n",
       "       [407.3179 ],\n",
       "       [417.17694],\n",
       "       [421.0405 ],\n",
       "       [420.92514],\n",
       "       [416.1712 ],\n",
       "       [402.5627 ],\n",
       "       [395.7947 ],\n",
       "       [385.72287],\n",
       "       [378.24182],\n",
       "       [371.41525],\n",
       "       [367.40982],\n",
       "       [367.67883],\n",
       "       [366.90826],\n",
       "       [368.152  ],\n",
       "       [369.2971 ],\n",
       "       [365.4284 ],\n",
       "       [351.3486 ],\n",
       "       [340.4779 ],\n",
       "       [336.84753],\n",
       "       [340.5158 ],\n",
       "       [345.0153 ],\n",
       "       [350.7988 ],\n",
       "       [354.8742 ],\n",
       "       [354.17798],\n",
       "       [351.97247],\n",
       "       [348.61063],\n",
       "       [344.31848],\n",
       "       [340.1205 ],\n",
       "       [333.69275],\n",
       "       [327.79483],\n",
       "       [322.9882 ],\n",
       "       [325.0033 ],\n",
       "       [333.53906],\n",
       "       [344.10492],\n",
       "       [348.8741 ],\n",
       "       [355.84363],\n",
       "       [363.45248],\n",
       "       [369.1712 ],\n",
       "       [370.74133],\n",
       "       [370.5667 ],\n",
       "       [368.39813],\n",
       "       [364.80722],\n",
       "       [353.02887],\n",
       "       [345.95053],\n",
       "       [346.70734],\n",
       "       [351.2549 ],\n",
       "       [358.8424 ],\n",
       "       [370.56464],\n",
       "       [377.97958],\n",
       "       [377.32358],\n",
       "       [365.99838],\n",
       "       [362.1699 ],\n",
       "       [363.77386],\n",
       "       [366.0428 ],\n",
       "       [365.50403],\n",
       "       [367.77676],\n",
       "       [370.56992],\n",
       "       [376.05096],\n",
       "       [381.53992],\n",
       "       [381.05914],\n",
       "       [381.208  ],\n",
       "       [379.81076],\n",
       "       [378.2808 ],\n",
       "       [371.3195 ],\n",
       "       [359.80676],\n",
       "       [351.55597],\n",
       "       [352.39297],\n",
       "       [343.98108],\n",
       "       [332.99942],\n",
       "       [333.8732 ],\n",
       "       [337.1802 ],\n",
       "       [344.5876 ],\n",
       "       [357.9224 ],\n",
       "       [360.13434],\n",
       "       [348.6348 ],\n",
       "       [334.26477],\n",
       "       [326.84583],\n",
       "       [314.06772],\n",
       "       [308.33337],\n",
       "       [304.4111 ],\n",
       "       [297.7172 ],\n",
       "       [292.59756],\n",
       "       [295.14862],\n",
       "       [305.44174],\n",
       "       [313.12354],\n",
       "       [317.79147],\n",
       "       [317.39615],\n",
       "       [319.62894],\n",
       "       [319.42142],\n",
       "       [312.63757],\n",
       "       [301.94418],\n",
       "       [293.97495],\n",
       "       [288.65445],\n",
       "       [287.72842],\n",
       "       [288.48782],\n",
       "       [285.43475],\n",
       "       [280.24722],\n",
       "       [274.52313],\n",
       "       [269.4338 ],\n",
       "       [266.58066],\n",
       "       [266.67493],\n",
       "       [271.74353],\n",
       "       [279.6719 ],\n",
       "       [286.065  ],\n",
       "       [290.2767 ],\n",
       "       [288.08386],\n",
       "       [284.52383],\n",
       "       [277.38913],\n",
       "       [271.50116],\n",
       "       [267.51654],\n",
       "       [268.0043 ],\n",
       "       [271.3595 ],\n",
       "       [273.20386],\n",
       "       [272.4922 ],\n",
       "       [272.4034 ],\n",
       "       [272.09753],\n",
       "       [270.27438],\n",
       "       [264.9339 ],\n",
       "       [256.4794 ],\n",
       "       [252.37125],\n",
       "       [252.57443],\n",
       "       [255.05356],\n",
       "       [260.1387 ],\n",
       "       [265.58063],\n",
       "       [270.385  ],\n",
       "       [279.26047],\n",
       "       [293.36792],\n",
       "       [308.56427],\n",
       "       [319.52567],\n",
       "       [325.40985],\n",
       "       [330.4447 ],\n",
       "       [332.36847],\n",
       "       [339.11755],\n",
       "       [346.11462],\n",
       "       [351.39383],\n",
       "       [349.02548],\n",
       "       [338.91806],\n",
       "       [329.0078 ],\n",
       "       [326.4116 ],\n",
       "       [333.66934],\n",
       "       [342.62186],\n",
       "       [345.95682],\n",
       "       [349.09537],\n",
       "       [350.41174],\n",
       "       [349.65405],\n",
       "       [352.01172],\n",
       "       [356.38998],\n",
       "       [357.73032],\n",
       "       [353.15543],\n",
       "       [348.54898],\n",
       "       [345.46735],\n",
       "       [350.4876 ],\n",
       "       [354.18854],\n",
       "       [358.30847],\n",
       "       [360.10492],\n",
       "       [362.04697],\n",
       "       [362.4048 ],\n",
       "       [360.4169 ],\n",
       "       [360.8869 ],\n",
       "       [362.96918],\n",
       "       [365.3086 ],\n",
       "       [365.76358],\n",
       "       [363.0003 ],\n",
       "       [359.7798 ],\n",
       "       [355.33487],\n",
       "       [353.94846],\n",
       "       [357.23288],\n",
       "       [358.13074],\n",
       "       [355.86227],\n",
       "       [357.18658],\n",
       "       [358.5753 ],\n",
       "       [361.12283],\n",
       "       [361.85327],\n",
       "       [362.2724 ],\n",
       "       [363.2023 ],\n",
       "       [361.8195 ],\n",
       "       [367.2604 ],\n",
       "       [374.99722],\n",
       "       [372.17325],\n",
       "       [367.83945],\n",
       "       [362.73376],\n",
       "       [357.0078 ],\n",
       "       [354.65863],\n",
       "       [356.30374],\n",
       "       [363.83505],\n",
       "       [371.03815],\n",
       "       [375.22736],\n",
       "       [374.83444],\n",
       "       [371.04935],\n",
       "       [365.47964],\n",
       "       [363.26645],\n",
       "       [363.54364],\n",
       "       [366.61066],\n",
       "       [362.18024],\n",
       "       [355.3057 ],\n",
       "       [355.7607 ],\n",
       "       [357.62744],\n",
       "       [361.39288],\n",
       "       [371.81473],\n",
       "       [382.54395],\n",
       "       [384.0951 ],\n",
       "       [377.12488],\n",
       "       [372.57715],\n",
       "       [370.38318],\n",
       "       [369.87277],\n",
       "       [374.62305],\n",
       "       [380.12436],\n",
       "       [386.21564],\n",
       "       [386.69476],\n",
       "       [380.2735 ],\n",
       "       [371.1777 ],\n",
       "       [365.03992],\n",
       "       [362.83783],\n",
       "       [356.40112],\n",
       "       [351.32812],\n",
       "       [353.73166],\n",
       "       [360.26953],\n",
       "       [362.9629 ],\n",
       "       [359.09964],\n",
       "       [356.26175],\n",
       "       [357.49396],\n",
       "       [356.4123 ],\n",
       "       [355.2027 ],\n",
       "       [354.84363],\n",
       "       [352.52957],\n",
       "       [351.50534],\n",
       "       [348.1601 ],\n",
       "       [342.4915 ],\n",
       "       [345.56906],\n",
       "       [352.89044],\n",
       "       [359.26974],\n",
       "       [363.6709 ],\n",
       "       [361.1628 ],\n",
       "       [355.89218],\n",
       "       [349.48764],\n",
       "       [344.73358],\n",
       "       [341.6662 ],\n",
       "       [345.50693],\n",
       "       [354.0137 ],\n",
       "       [363.6296 ],\n",
       "       [369.98236],\n",
       "       [373.23108],\n",
       "       [374.0452 ],\n",
       "       [368.26254],\n",
       "       [362.72327],\n",
       "       [363.9283 ],\n",
       "       [367.0109 ],\n",
       "       [372.9225 ],\n",
       "       [378.12994],\n",
       "       [383.48294],\n",
       "       [385.86658],\n",
       "       [383.43622],\n",
       "       [381.70328],\n",
       "       [381.90375],\n",
       "       [382.2413 ],\n",
       "       [379.52936],\n",
       "       [373.73654],\n",
       "       [369.45444],\n",
       "       [366.64404],\n",
       "       [348.84158],\n",
       "       [328.8768 ],\n",
       "       [316.51984],\n",
       "       [311.78027],\n",
       "       [315.80475],\n",
       "       [324.76773],\n",
       "       [335.22797],\n",
       "       [340.2004 ],\n",
       "       [336.72522],\n",
       "       [328.67612],\n",
       "       [320.19754],\n",
       "       [314.70163],\n",
       "       [308.9669 ],\n",
       "       [306.31705],\n",
       "       [304.65588],\n",
       "       [308.13144],\n",
       "       [310.90417],\n",
       "       [312.67438],\n",
       "       [313.8273 ],\n",
       "       [309.9211 ],\n",
       "       [303.59488],\n",
       "       [300.76184],\n",
       "       [303.0324 ],\n",
       "       [303.85587],\n",
       "       [302.82306],\n",
       "       [300.9701 ],\n",
       "       [297.78452],\n",
       "       [296.00836],\n",
       "       [294.54752],\n",
       "       [293.80988],\n",
       "       [295.10483],\n",
       "       [296.20874],\n",
       "       [295.3511 ],\n",
       "       [294.2185 ],\n",
       "       [293.89557],\n",
       "       [293.26315],\n",
       "       [293.69943],\n",
       "       [292.87335],\n",
       "       [291.53333],\n",
       "       [290.59216],\n",
       "       [291.68555],\n",
       "       [293.68048],\n",
       "       [296.6273 ],\n",
       "       [297.1928 ],\n",
       "       [294.67676],\n",
       "       [287.07217],\n",
       "       [278.05392],\n",
       "       [268.78845],\n",
       "       [264.65173],\n",
       "       [264.2746 ],\n",
       "       [265.61478],\n",
       "       [268.17935],\n",
       "       [271.0064 ],\n",
       "       [272.67416],\n",
       "       [273.01608],\n",
       "       [273.44022],\n",
       "       [274.21384],\n",
       "       [274.05817],\n",
       "       [272.5302 ],\n",
       "       [273.5615 ],\n",
       "       [276.76334],\n",
       "       [280.94632],\n",
       "       [284.192  ],\n",
       "       [286.43347],\n",
       "       [289.39615],\n",
       "       [287.66003],\n",
       "       [284.2032 ],\n",
       "       [278.55627],\n",
       "       [274.62112],\n",
       "       [273.22388],\n",
       "       [274.91223],\n",
       "       [279.0633 ],\n",
       "       [283.23645],\n",
       "       [288.5273 ],\n",
       "       [292.06393],\n",
       "       [293.10092],\n",
       "       [293.88885],\n",
       "       [293.20602],\n",
       "       [291.90717],\n",
       "       [291.01135],\n",
       "       [291.26648],\n",
       "       [292.89288],\n",
       "       [294.28116],\n",
       "       [292.6688 ],\n",
       "       [291.57806],\n",
       "       [292.9534 ],\n",
       "       [297.49002],\n",
       "       [302.4273 ],\n",
       "       [306.51904],\n",
       "       [310.66846],\n",
       "       [313.21667],\n",
       "       [315.4364 ],\n",
       "       [315.87802],\n",
       "       [316.21243],\n",
       "       [316.18616],\n",
       "       [314.5777 ],\n",
       "       [311.58932],\n",
       "       [308.6181 ],\n",
       "       [306.55026],\n",
       "       [307.26538],\n",
       "       [307.82983],\n",
       "       [305.01086],\n",
       "       [302.99072],\n",
       "       [302.13565],\n",
       "       [302.0202 ],\n",
       "       [303.80728],\n",
       "       [309.32867],\n",
       "       [316.60715],\n",
       "       [325.72046],\n",
       "       [334.06363],\n",
       "       [337.2265 ],\n",
       "       [336.02603],\n",
       "       [332.88138],\n",
       "       [328.98444],\n",
       "       [324.53314],\n",
       "       [322.14917],\n",
       "       [324.65237],\n",
       "       [327.81186],\n",
       "       [333.74442],\n",
       "       [337.24387],\n",
       "       [341.02133],\n",
       "       [342.17902],\n",
       "       [338.66888],\n",
       "       [337.7606 ],\n",
       "       [338.71213],\n",
       "       [340.12555],\n",
       "       [340.8706 ],\n",
       "       [341.3327 ],\n",
       "       [340.8985 ],\n",
       "       [335.47156],\n",
       "       [338.95465],\n",
       "       [347.5874 ],\n",
       "       [350.64157],\n",
       "       [351.316  ],\n",
       "       [348.5669 ],\n",
       "       [347.11935],\n",
       "       [346.07956],\n",
       "       [350.9748 ],\n",
       "       [361.61108],\n",
       "       [370.65726],\n",
       "       [373.25027],\n",
       "       [371.21033],\n",
       "       [369.9469 ],\n",
       "       [371.13553],\n",
       "       [376.01993],\n",
       "       [381.2655 ],\n",
       "       [383.81082],\n",
       "       [387.51498],\n",
       "       [389.53696],\n",
       "       [389.66647],\n",
       "       [386.12195],\n",
       "       [377.334  ],\n",
       "       [366.85825],\n",
       "       [370.5423 ],\n",
       "       [375.78693],\n",
       "       [377.3035 ],\n",
       "       [381.9001 ],\n",
       "       [379.67575],\n",
       "       [381.8366 ],\n",
       "       [379.6002 ],\n",
       "       [373.9455 ],\n",
       "       [358.96378],\n",
       "       [355.59662],\n",
       "       [353.37268],\n",
       "       [337.06656],\n",
       "       [331.46686],\n",
       "       [318.81238],\n",
       "       [316.1343 ],\n",
       "       [317.74484],\n",
       "       [326.0656 ],\n",
       "       [334.167  ],\n",
       "       [348.66714],\n",
       "       [359.08905],\n",
       "       [355.63257],\n",
       "       [354.37695],\n",
       "       [352.917  ],\n",
       "       [357.6198 ],\n",
       "       [365.84128],\n",
       "       [367.447  ],\n",
       "       [368.09445],\n",
       "       [365.46735],\n",
       "       [371.36597],\n",
       "       [376.27127],\n",
       "       [377.92114],\n",
       "       [377.50848],\n",
       "       [388.79486],\n",
       "       [408.77725],\n",
       "       [429.0276 ],\n",
       "       [444.4885 ],\n",
       "       [440.38855],\n",
       "       [436.0902 ],\n",
       "       [432.60934],\n",
       "       [424.92258],\n",
       "       [423.55823],\n",
       "       [426.26443],\n",
       "       [428.069  ],\n",
       "       [419.38208],\n",
       "       [416.0558 ],\n",
       "       [421.54376],\n",
       "       [424.54352],\n",
       "       [430.93655],\n",
       "       [432.51944],\n",
       "       [435.3524 ],\n",
       "       [437.63336],\n",
       "       [437.0594 ],\n",
       "       [438.04233],\n",
       "       [434.22937],\n",
       "       [434.5043 ],\n",
       "       [438.9519 ],\n",
       "       [449.67758],\n",
       "       [455.8568 ],\n",
       "       [455.55765],\n",
       "       [451.11975],\n",
       "       [441.5363 ],\n",
       "       [432.42856],\n",
       "       [421.7105 ],\n",
       "       [420.7042 ],\n",
       "       [421.29556],\n",
       "       [425.87106],\n",
       "       [432.82996],\n",
       "       [436.98517],\n",
       "       [433.92532],\n",
       "       [424.96442],\n",
       "       [421.6236 ],\n",
       "       [422.53192],\n",
       "       [432.5925 ],\n",
       "       [440.85468],\n",
       "       [438.37314],\n",
       "       [428.81863],\n",
       "       [426.5169 ],\n",
       "       [434.8246 ],\n",
       "       [449.15033],\n",
       "       [458.61362],\n",
       "       [462.37564],\n",
       "       [469.4684 ],\n",
       "       [472.45547],\n",
       "       [466.92584],\n",
       "       [466.45044],\n",
       "       [455.957  ],\n",
       "       [451.11688],\n",
       "       [457.22507],\n",
       "       [481.93124],\n",
       "       [493.24185],\n",
       "       [501.08508],\n",
       "       [501.56348],\n",
       "       [503.60046],\n",
       "       [507.39297],\n",
       "       [533.02997],\n",
       "       [536.1695 ],\n",
       "       [528.5124 ],\n",
       "       [521.9081 ],\n",
       "       [523.39075],\n",
       "       [506.41522],\n",
       "       [501.92694],\n",
       "       [498.2864 ],\n",
       "       [497.77237],\n",
       "       [491.45724],\n",
       "       [489.19162],\n",
       "       [498.80188],\n",
       "       [500.99442],\n",
       "       [495.91937],\n",
       "       [492.07956],\n",
       "       [492.76825],\n",
       "       [500.21063],\n",
       "       [511.44962],\n",
       "       [511.77795],\n",
       "       [512.1636 ],\n",
       "       [503.86078],\n",
       "       [491.73175],\n",
       "       [477.5188 ],\n",
       "       [478.6451 ],\n",
       "       [488.80615],\n",
       "       [496.52673],\n",
       "       [498.04285],\n",
       "       [501.6959 ],\n",
       "       [498.74817],\n",
       "       [502.9327 ],\n",
       "       [503.3439 ],\n",
       "       [499.95264],\n",
       "       [498.85583],\n",
       "       [533.188  ],\n",
       "       [544.1933 ],\n",
       "       [537.4894 ],\n",
       "       [532.6646 ],\n",
       "       [547.9315 ],\n",
       "       [557.4465 ],\n",
       "       [542.5613 ],\n",
       "       [524.9177 ],\n",
       "       [514.3618 ]], dtype=float32)"
      ]
     },
     "execution_count": 232,
     "metadata": {},
     "output_type": "execute_result"
    }
   ],
   "source": [
    "train_predict"
   ]
  },
  {
   "cell_type": "code",
   "execution_count": 233,
   "id": "ed3a99da",
   "metadata": {},
   "outputs": [
    {
     "data": {
      "text/plain": [
       "366.7188246719108"
      ]
     },
     "execution_count": 233,
     "metadata": {},
     "output_type": "execute_result"
    }
   ],
   "source": [
    "import math\n",
    "from sklearn.metrics import mean_squared_error\n",
    "math.sqrt(mean_squared_error(y_train , train_predict))"
   ]
  },
  {
   "cell_type": "code",
   "execution_count": 234,
   "id": "516688ba",
   "metadata": {},
   "outputs": [
    {
     "data": {
      "text/plain": [
       "564.1278097310651"
      ]
     },
     "execution_count": 234,
     "metadata": {},
     "output_type": "execute_result"
    }
   ],
   "source": [
    "math.sqrt(mean_squared_error(y_test , test_predict))"
   ]
  },
  {
   "cell_type": "code",
   "execution_count": 235,
   "id": "16ef4eee",
   "metadata": {},
   "outputs": [
    {
     "data": {
      "text/plain": [
       "354"
      ]
     },
     "execution_count": 235,
     "metadata": {},
     "output_type": "execute_result"
    }
   ],
   "source": [
    "len(test_data)"
   ]
  },
  {
   "cell_type": "code",
   "execution_count": 236,
   "id": "ec847ef7",
   "metadata": {},
   "outputs": [],
   "source": [
    "input_data = test_data[254: ].reshape(1,-1)"
   ]
  },
  {
   "cell_type": "code",
   "execution_count": 237,
   "id": "b1a2f7e7",
   "metadata": {},
   "outputs": [
    {
     "data": {
      "text/plain": [
       "(1, 100)"
      ]
     },
     "execution_count": 237,
     "metadata": {},
     "output_type": "execute_result"
    }
   ],
   "source": [
    "input_data.shape"
   ]
  },
  {
   "cell_type": "code",
   "execution_count": 238,
   "id": "90a806fd",
   "metadata": {},
   "outputs": [
    {
     "data": {
      "text/plain": [
       "array([[0.76230312, 0.77023219, 0.77645742, 0.74605183, 0.74104981,\n",
       "        0.77929713, 0.78499816, 0.78309782, 0.7836439 , 0.76444371,\n",
       "        0.79766714, 0.82230625, 0.82844416, 0.8070378 , 0.87575631,\n",
       "        0.88512696, 0.8692907 , 0.87105998, 0.85878416, 0.85419716,\n",
       "        0.86472556, 0.87355013, 0.86151455, 0.88265868, 0.88490858,\n",
       "        0.85463405, 0.91583838, 0.94122022, 0.95624816, 0.94938952,\n",
       "        0.93715729, 0.9614687 , 0.99698564, 0.97702099, 0.96948509,\n",
       "        0.99257329, 0.94912741, 0.8995871 , 0.9121033 , 0.92202003,\n",
       "        0.90218643, 0.92549314, 0.98016641, 0.97300193, 0.99062935,\n",
       "        1.        , 0.97887774, 0.97184418, 0.92903172, 0.91780432,\n",
       "        0.92704392, 0.94309869, 0.93916696, 0.89124314, 0.83853568,\n",
       "        0.83569596, 0.804373  , 0.82743933, 0.85559515, 0.86105593,\n",
       "        0.82374784, 0.82518942, 0.80968086, 0.79532991, 0.81072929,\n",
       "        0.78019265, 0.77073453, 0.78604659, 0.81046718, 0.83082499,\n",
       "        0.83049742, 0.82837857, 0.82311443, 0.82274301, 0.8261288 ,\n",
       "        0.80505013, 0.79397565, 0.78038929, 0.72877398, 0.69769113,\n",
       "        0.67097703, 0.66833397, 0.67049655, 0.66258921, 0.623228  ,\n",
       "        0.63740416, 0.60487972, 0.61593233, 0.59930975, 0.35739716,\n",
       "        0.33478952, 0.28950877, 0.27483019, 0.33380662, 0.32869527,\n",
       "        0.42214021, 0.48764772, 0.4272515 , 0.37509011, 0.38507243]])"
      ]
     },
     "execution_count": 238,
     "metadata": {},
     "output_type": "execute_result"
    }
   ],
   "source": [
    "input_data"
   ]
  },
  {
   "cell_type": "code",
   "execution_count": 239,
   "id": "23425c71",
   "metadata": {},
   "outputs": [],
   "source": [
    "temp_input = input_data.tolist()\n",
    "temp_input = input_data[0]"
   ]
  },
  {
   "cell_type": "code",
   "execution_count": 240,
   "id": "34d50cb0",
   "metadata": {},
   "outputs": [
    {
     "data": {
      "text/plain": [
       "100"
      ]
     },
     "execution_count": 240,
     "metadata": {},
     "output_type": "execute_result"
    }
   ],
   "source": [
    "len(temp_input)"
   ]
  },
  {
   "cell_type": "code",
   "execution_count": 241,
   "id": "3eec7e9d",
   "metadata": {},
   "outputs": [],
   "source": [
    "temp_input.reshape(-1,1)\n",
    "x_input = temp_input.reshape(-1 ,100 ,1)"
   ]
  },
  {
   "cell_type": "code",
   "execution_count": 242,
   "id": "48056e87",
   "metadata": {},
   "outputs": [
    {
     "name": "stdout",
     "output_type": "stream",
     "text": [
      "1/1 [==============================] - 0s 58ms/step\n"
     ]
    }
   ],
   "source": [
    "y_hat = model.predict(x_input)"
   ]
  },
  {
   "cell_type": "code",
   "execution_count": 243,
   "id": "e92d300e",
   "metadata": {},
   "outputs": [
    {
     "data": {
      "text/plain": [
       "array([[0.4030859]], dtype=float32)"
      ]
     },
     "execution_count": 243,
     "metadata": {},
     "output_type": "execute_result"
    }
   ],
   "source": [
    "y_hat"
   ]
  },
  {
   "cell_type": "code",
   "execution_count": 244,
   "id": "d55003cf",
   "metadata": {},
   "outputs": [],
   "source": [
    "result_input = x_input.reshape(-1,1)"
   ]
  },
  {
   "cell_type": "code",
   "execution_count": 245,
   "id": "4b3ea1ca",
   "metadata": {},
   "outputs": [],
   "source": [
    "final_input =  scaler.inverse_transform(result_input)"
   ]
  },
  {
   "cell_type": "code",
   "execution_count": 246,
   "id": "dff7bd62",
   "metadata": {},
   "outputs": [
    {
     "data": {
      "text/plain": [
       "array([[582.869995],\n",
       "       [586.5     ],\n",
       "       [589.349976],\n",
       "       [575.429993],\n",
       "       [573.140015],\n",
       "       [590.650024],\n",
       "       [593.26001 ],\n",
       "       [592.390015],\n",
       "       [592.640015],\n",
       "       [583.849976],\n",
       "       [599.059998],\n",
       "       [610.340027],\n",
       "       [613.150024],\n",
       "       [603.349976],\n",
       "       [634.809998],\n",
       "       [639.099976],\n",
       "       [631.849976],\n",
       "       [632.659973],\n",
       "       [627.039978],\n",
       "       [624.940002],\n",
       "       [629.76001 ],\n",
       "       [633.799988],\n",
       "       [628.289978],\n",
       "       [637.969971],\n",
       "       [639.      ],\n",
       "       [625.140015],\n",
       "       [653.159973],\n",
       "       [664.780029],\n",
       "       [671.659973],\n",
       "       [668.52002 ],\n",
       "       [662.919983],\n",
       "       [674.049988],\n",
       "       [690.309998],\n",
       "       [681.169983],\n",
       "       [677.719971],\n",
       "       [688.289978],\n",
       "       [668.400024],\n",
       "       [645.719971],\n",
       "       [651.450012],\n",
       "       [655.98999 ],\n",
       "       [646.909973],\n",
       "       [657.580017],\n",
       "       [682.609985],\n",
       "       [679.330017],\n",
       "       [687.400024],\n",
       "       [691.690002],\n",
       "       [682.02002 ],\n",
       "       [678.799988],\n",
       "       [659.200012],\n",
       "       [654.059998],\n",
       "       [658.289978],\n",
       "       [665.640015],\n",
       "       [663.840027],\n",
       "       [641.900024],\n",
       "       [617.77002 ],\n",
       "       [616.469971],\n",
       "       [602.130005],\n",
       "       [612.690002],\n",
       "       [625.580017],\n",
       "       [628.080017],\n",
       "       [611.      ],\n",
       "       [611.659973],\n",
       "       [604.559998],\n",
       "       [597.98999 ],\n",
       "       [605.039978],\n",
       "       [591.059998],\n",
       "       [586.72998 ],\n",
       "       [593.73999 ],\n",
       "       [604.919983],\n",
       "       [614.23999 ],\n",
       "       [614.090027],\n",
       "       [613.119995],\n",
       "       [610.710022],\n",
       "       [610.539978],\n",
       "       [612.090027],\n",
       "       [602.440002],\n",
       "       [597.369995],\n",
       "       [591.150024],\n",
       "       [567.52002 ],\n",
       "       [553.289978],\n",
       "       [541.059998],\n",
       "       [539.849976],\n",
       "       [540.840027],\n",
       "       [537.219971],\n",
       "       [519.200012],\n",
       "       [525.690002],\n",
       "       [510.799988],\n",
       "       [515.859985],\n",
       "       [508.25    ],\n",
       "       [397.5     ],\n",
       "       [387.149994],\n",
       "       [366.420013],\n",
       "       [359.700012],\n",
       "       [386.700012],\n",
       "       [384.359985],\n",
       "       [427.140015],\n",
       "       [457.130005],\n",
       "       [429.480011],\n",
       "       [405.600006],\n",
       "       [410.170013]])"
      ]
     },
     "execution_count": 246,
     "metadata": {},
     "output_type": "execute_result"
    }
   ],
   "source": [
    "final_input"
   ]
  },
  {
   "cell_type": "code",
   "execution_count": 247,
   "id": "aa8158ea",
   "metadata": {},
   "outputs": [
    {
     "data": {
      "text/plain": [
       "[<matplotlib.lines.Line2D at 0x1440bc16c10>]"
      ]
     },
     "execution_count": 247,
     "metadata": {},
     "output_type": "execute_result"
    },
    {
     "data": {
      "image/png": "[encoded data removed]",
      "text/plain": [
       "<Figure size 432x288 with 1 Axes>"
      ]
     },
     "metadata": {
      "needs_background": "light"
     },
     "output_type": "display_data"
    }
   ],
   "source": [
    "plt.plot(final_input ,color= 'green')"
   ]
  },
  {
   "cell_type": "code",
   "execution_count": 248,
   "id": "5df7d7e0",
   "metadata": {},
   "outputs": [],
   "source": [
    "result_output = y_hat.reshape(-1,1)"
   ]
  },
  {
   "cell_type": "code",
   "execution_count": 249,
   "id": "2da3e185",
   "metadata": {},
   "outputs": [],
   "source": [
    "final_output = scaler.inverse_transform(result_output)"
   ]
  },
  {
   "cell_type": "code",
   "execution_count": 250,
   "id": "2018b717",
   "metadata": {},
   "outputs": [
    {
     "data": {
      "text/plain": [
       "array([[418.41675]], dtype=float32)"
      ]
     },
     "execution_count": 250,
     "metadata": {},
     "output_type": "execute_result"
    }
   ],
   "source": [
    "final_output"
   ]
  },
  {
   "cell_type": "code",
   "execution_count": 251,
   "id": "ace574a3",
   "metadata": {},
   "outputs": [
    {
     "data": {
      "text/plain": [
       "[<matplotlib.lines.Line2D at 0x1440bbdea30>]"
      ]
     },
     "execution_count": 251,
     "metadata": {},
     "output_type": "execute_result"
    },
    {
     "data": {
      "image/png": "[encoded data removed]",
      "text/plain": [
       "<Figure size 432x288 with 1 Axes>"
      ]
     },
     "metadata": {
      "needs_background": "light"
     },
     "output_type": "display_data"
    }
   ],
   "source": [
    "plt.plot(final_input ,color= 'green')\n",
    "plt.plot(final_output ,color= 'orange')"
   ]
  },
  {
   "cell_type": "code",
   "execution_count": null,
   "id": "e31315a6",
   "metadata": {},
   "outputs": [],
   "source": []
  },
  {
   "cell_type": "code",
   "execution_count": null,
   "id": "12299759",
   "metadata": {},
   "outputs": [],
   "source": []
  },
  {
   "cell_type": "code",
   "execution_count": null,
   "id": "d93b15c9",
   "metadata": {},
   "outputs": [],
   "source": []
  },
  {
   "cell_type": "code",
   "execution_count": null,
   "id": "a7d33ebf",
   "metadata": {},
   "outputs": [],
   "source": []
  },
  {
   "cell_type": "code",
   "execution_count": null,
   "id": "6637e976",
   "metadata": {},
   "outputs": [],
   "source": []
  }
 ],
 "metadata": {
  "kernelspec": {
   "display_name": "Python 3",
   "language": "python",
   "name": "python3"
  },
  "language_info": {
   "codemirror_mode": {
    "name": "ipython",
    "version": 3
   },
   "file_extension": ".py",
   "mimetype": "text/x-python",
   "name": "python",
   "nbconvert_exporter": "python",
   "pygments_lexer": "ipython3",
   "version": "3.8.8"
  }
 },
 "nbformat": 4,
 "nbformat_minor": 5
}
